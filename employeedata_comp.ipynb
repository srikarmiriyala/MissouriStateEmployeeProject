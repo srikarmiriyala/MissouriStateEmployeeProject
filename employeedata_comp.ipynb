{
 "cells": [
  {
   "cell_type": "code",
   "execution_count": 187,
   "id": "d3322941-3d41-4080-afdd-c0564597c5f5",
   "metadata": {},
   "outputs": [],
   "source": [
    "from pyspark.sql import SparkSession\n",
    "spark = SparkSession.builder.getOrCreate()\n",
    "from pyspark.sql.functions import round\n",
    "from pyspark.sql.types import DecimalType, DoubleType\n",
    "from pyspark.sql.functions import desc, asc, exp, max, col"
   ]
  },
  {
   "cell_type": "code",
   "execution_count": 112,
   "id": "f2dbc6ad-c263-4bae-9d30-b8fc71b531d2",
   "metadata": {},
   "outputs": [
    {
     "data": {
      "text/plain": [
       "DataFrame[a: bigint, b: string, c: string, d: string, e: double]"
      ]
     },
     "execution_count": 112,
     "metadata": {},
     "output_type": "execute_result"
    }
   ],
   "source": [
    "from datetime import datetime, date\n",
    "import pandas as pd\n",
    "from pyspark.sql import Row\n",
    "df = spark.createDataFrame([\n",
    "    Row(a=1, b='string1', c='string1', d='string1', e=2.00),\n",
    "    Row(a=2, b='string2', c='string2', d='string2', e=3.00),\n",
    "    Row(a=4, b='string3', c='string3', d='string3', e=5.00)\n",
    "])\n",
    "df"
   ]
  },
  {
   "cell_type": "code",
   "execution_count": 114,
   "id": "e969d412-d5cc-49c5-b87d-7f8c5e17390a",
   "metadata": {},
   "outputs": [
    {
     "name": "stdout",
     "output_type": "stream",
     "text": [
      "+-------------+-----------+-----------------------+-------------------------+-------------+\n",
      "|Calendar_Year|Agency_Name|Position_Title         |Employee_Name            |YTD_Gross_Pay|\n",
      "+-------------+-----------+-----------------------+-------------------------+-------------+\n",
      "|2021         |AGRICULTURE|ACCOUNTANT             |KLEINDIENST, ANGELA F    |44054.5      |\n",
      "|2021         |AGRICULTURE|ACCOUNTANT             |WOOD, KAREN M.           |39339.97     |\n",
      "|2021         |AGRICULTURE|ACCOUNTS SUPERVISOR    |WALKER, JOE E.           |53821.2      |\n",
      "|2021         |AGRICULTURE|ADMIN SUPPORT ASSISTANT|BICKERTON, HAILEY ANN    |29484        |\n",
      "|2021         |AGRICULTURE|ADMIN SUPPORT ASSISTANT|BIRDWELL, RHIANNON       |15340.08     |\n",
      "|2021         |AGRICULTURE|ADMIN SUPPORT ASSISTANT|HALL, STACY A.           |20208.3      |\n",
      "|2021         |AGRICULTURE|ADMIN SUPPORT ASSISTANT|HENRY, PAMELA A          |14742        |\n",
      "|2021         |AGRICULTURE|ADMIN SUPPORT ASSISTANT|JONES, MEGAN L           |15541.71     |\n",
      "|2021         |AGRICULTURE|ADMIN SUPPORT ASSISTANT|KIRSCH, NICOLE LEANNE    |31167.32     |\n",
      "|2021         |AGRICULTURE|ADMIN SUPPORT ASSISTANT|LAWSON, TRACY L.         |9544.74      |\n",
      "|2021         |AGRICULTURE|ADMIN SUPPORT ASSISTANT|LUEBBERING, KATHERINE E. |17998.75     |\n",
      "|2021         |AGRICULTURE|ADMIN SUPPORT ASSISTANT|LUEBBERING, LINDA A      |16412.96     |\n",
      "|2021         |AGRICULTURE|ADMIN SUPPORT ASSISTANT|MOORE, MEGAN B.          |29484        |\n",
      "|2021         |AGRICULTURE|ADMIN SUPPORT ASSISTANT|NETTER, KAILEY L         |3069.21      |\n",
      "|2021         |AGRICULTURE|ADMIN SUPPORT ASSISTANT|POORT, MELISSA R.        |1228.5       |\n",
      "|2021         |AGRICULTURE|ADMIN SUPPORT ASSISTANT|PUTMAN, SHELBY LEE       |6669.09      |\n",
      "|2021         |AGRICULTURE|ADMIN SUPPORT ASSISTANT|RALSTON, SARAH           |8599.5       |\n",
      "|2021         |AGRICULTURE|ADMIN SUPPORT ASSISTANT|RANDOLPH, KAYLIE MICHELLE|3685.5       |\n",
      "|2021         |AGRICULTURE|ADMIN SUPPORT ASSISTANT|ROARK, BRITTANY MARIE    |31229.01     |\n",
      "|2021         |AGRICULTURE|ADMIN SUPPORT ASSISTANT|RUMSEY, MEREDITH D.      |1228.5       |\n",
      "+-------------+-----------+-----------------------+-------------------------+-------------+\n",
      "only showing top 20 rows\n",
      "\n"
     ]
    }
   ],
   "source": [
    "sales = spark.read.format('csv').option('header','true').load('2021_State_Employee_Pay.csv')\n",
    "sales.createOrReplaceTempView('em')\n",
    "sales.show(truncate=False)"
   ]
  },
  {
   "cell_type": "markdown",
   "id": "dbaf66a8-52f9-42d7-b5cc-220adb06c298",
   "metadata": {},
   "source": [
    "# Total spent on employ salary"
   ]
  },
  {
   "cell_type": "code",
   "execution_count": 145,
   "id": "940afc49-e51d-4471-8ec8-102bb6852901",
   "metadata": {},
   "outputs": [
    {
     "name": "stdout",
     "output_type": "stream",
     "text": [
      "+-------------------+-------------+\n",
      "| sum(YTD_Gross_Pay)|     Expanded|\n",
      "+-------------------+-------------+\n",
      "|2.160391753169996E9|2160391753.17|\n",
      "+-------------------+-------------+\n",
      "\n"
     ]
    }
   ],
   "source": [
    "tot_sum = sales.agg({'YTD_Gross_Pay': 'sum'})\n",
    "tot_sum = tot_sum.withColumn('Expanded', tot_sum[\"sum(YTD_Gross_Pay)\"].cast(DecimalType(20,2)))\n",
    "tot_sum.show()"
   ]
  },
  {
   "cell_type": "markdown",
   "id": "4d2545eb-2cfa-4d81-a18a-cc5d76a355a0",
   "metadata": {},
   "source": [
    "# Avg employ salary"
   ]
  },
  {
   "cell_type": "code",
   "execution_count": 147,
   "id": "95ed9e62-4d68-4328-8b43-fc44e88e135a",
   "metadata": {
    "scrolled": true
   },
   "outputs": [
    {
     "name": "stdout",
     "output_type": "stream",
     "text": [
      "+------------------+--------+\n",
      "|avg(YTD_Gross_Pay)|Expanded|\n",
      "+------------------+--------+\n",
      "|30628.648942652526|30628.65|\n",
      "+------------------+--------+\n",
      "\n"
     ]
    }
   ],
   "source": [
    "tot_avg = sales.agg({'YTD_Gross_Pay': 'avg'})\n",
    "tot_avg = tot_avg.withColumn('Expanded', tot_avg[\"avg(YTD_Gross_Pay)\"].cast(DecimalType(20,2)))\n",
    "tot_avg.show()"
   ]
  },
  {
   "cell_type": "markdown",
   "id": "e1e8bddb-7984-44aa-b500-f2b82b880815",
   "metadata": {},
   "source": [
    "# Avg Agency salary"
   ]
  },
  {
   "cell_type": "code",
   "execution_count": 172,
   "id": "31e5c51c-a0b3-4dd1-a3c1-45a4456b8ea0",
   "metadata": {},
   "outputs": [
    {
     "name": "stdout",
     "output_type": "stream",
     "text": [
      "+----------------------------------+------------------+--------------+\n",
      "|Agency_Name                       |avg(YTD_Gross_Pay)|Avg_per_agency|\n",
      "+----------------------------------+------------------+--------------+\n",
      "|OFFICE OF GOVERNOR                |52052.740769230775|52052.74      |\n",
      "|OFFICE OF LIEUTENANT GOVERNOR     |46640.093157894735|46640.09      |\n",
      "|OFFICE OF STATE TREASURER         |40724.073571428584|40724.07      |\n",
      "|JUDICIARY                         |40040.17376719145 |40040.17      |\n",
      "|OFFICE OF STATE AUDITOR           |39918.378322981356|39918.38      |\n",
      "|OFFICE OF ATTORNEY GENERAL        |38734.770356435656|38734.77      |\n",
      "|COMMERCE AND INSURANCE            |38402.44062267659 |38402.44      |\n",
      "|OFFICE OF ADMINISTRATION          |36561.482666390904|36561.48      |\n",
      "|LABOR AND INDUSTRIAL RELATIONS    |36034.56099514558 |36034.56      |\n",
      "|HEALTH AND SENIOR SERVICES        |34112.07559065337 |34112.08      |\n",
      "|LEGISLATURE                       |34017.883493699956|34017.88      |\n",
      "|ECONOMIC DEVELOPMENT              |33248.022476190476|33248.02      |\n",
      "|TRANSPORTATION                    |32448.6954463042  |32448.70      |\n",
      "|PUBLIC SAFETY                     |31830.2550656737  |31830.26      |\n",
      "|CORRECTIONS                       |30502.793892258633|30502.79      |\n",
      "|CONSERVATION                      |30360.456630481996|30360.46      |\n",
      "|OFFICE OF SECRETARY OF STATE      |28832.793555555556|28832.79      |\n",
      "|NATURAL RESOURCES                 |28746.194528138556|28746.19      |\n",
      "|SOCIAL SERVICES                   |28006.183944032393|28006.18      |\n",
      "|HIGHER EDUCATION AND WORKFORCE DEV|27925.69507782099 |27925.70      |\n",
      "|MENTAL HEALTH                     |27461.05628605423 |27461.06      |\n",
      "|ELEMENTARY AND SECONDARY EDUCATION|24341.235103690677|24341.24      |\n",
      "|REVENUE                           |23887.87039917056 |23887.87      |\n",
      "|AGRICULTURE                       |13433.38054988217 |13433.38      |\n",
      "+----------------------------------+------------------+--------------+\n",
      "\n"
     ]
    }
   ],
   "source": [
    "agen_avg = sales.groupBy(\"Agency_Name\").agg({\"YTD_Gross_Pay\": \"avg\"}).sort(\"Agency_Name\")\n",
    "agen_avg = agen_avg.withColumn('Avg_per_agency', agen_avg[\"avg(YTD_Gross_Pay)\"].cast(DecimalType(20,2)))\n",
    "agen_avg.sort(desc(\"Avg_per_agency\")).show(24, truncate=False)"
   ]
  },
  {
   "cell_type": "markdown",
   "id": "24d71f5d-e35f-4979-add7-c7ab59dc8aff",
   "metadata": {},
   "source": [
    "# Total Salary per agency"
   ]
  },
  {
   "cell_type": "code",
   "execution_count": 171,
   "id": "f2e5f8e8-1e09-436c-8a5f-85cf01913bf3",
   "metadata": {},
   "outputs": [
    {
     "name": "stdout",
     "output_type": "stream",
     "text": [
      "+----------------------------------+--------------------+----------------+\n",
      "|Agency_Name                       |sum(YTD_Gross_Pay)  |Total_per_agency|\n",
      "+----------------------------------+--------------------+----------------+\n",
      "|CORRECTIONS                       |3.822000074700007E8 |382200007.47    |\n",
      "|MENTAL HEALTH                     |2.7705459687000114E8|277054596.87    |\n",
      "|PUBLIC SAFETY                     |2.3506643366000026E8|235066433.66    |\n",
      "|SOCIAL SERVICES                   |2.3418771013999888E8|234187710.14    |\n",
      "|TRANSPORTATION                    |2.326571463500011E8 |232657146.35    |\n",
      "|JUDICIARY                         |2.008815517899995E8 |200881551.79    |\n",
      "|OFFICE OF ADMINISTRATION          |8.844222656999959E7 |88442226.57     |\n",
      "|HEALTH AND SENIOR SERVICES        |7.883300668999992E7 |78833006.69     |\n",
      "|CONSERVATION                      |6.992013162000003E7 |69920131.62     |\n",
      "|ELEMENTARY AND SECONDARY EDUCATION|6.925081386999997E7 |69250813.87     |\n",
      "|NATURAL RESOURCES                 |6.640370936000007E7 |66403709.36     |\n",
      "|REVENUE                           |4.607970200000001E7 |46079702.00     |\n",
      "|COMMERCE AND INSURANCE            |4.1321026110000014E7|41321026.11     |\n",
      "|LEGISLATURE                       |2.969761229000006E7 |29697612.29     |\n",
      "|LABOR AND INDUSTRIAL RELATIONS    |2.9692478259999957E7|29692478.26     |\n",
      "|OFFICE OF ATTORNEY GENERAL        |1.9561059030000005E7|19561059.03     |\n",
      "|AGRICULTURE                       |1.710069344E7       |17100693.44     |\n",
      "|HIGHER EDUCATION AND WORKFORCE DEV|1.4353807269999988E7|14353807.27     |\n",
      "|OFFICE OF SECRETARY OF STATE      |9082329.97          |9082329.97      |\n",
      "|ECONOMIC DEVELOPMENT              |6982084.72          |6982084.72      |\n",
      "|OFFICE OF STATE AUDITOR           |6426858.909999998   |6426858.91      |\n",
      "|OFFICE OF STATE TREASURER         |2280548.1200000006  |2280548.12      |\n",
      "|OFFICE OF GOVERNOR                |2030056.8900000004  |2030056.89      |\n",
      "|OFFICE OF LIEUTENANT GOVERNOR     |886161.7699999999   |886161.77       |\n",
      "+----------------------------------+--------------------+----------------+\n",
      "\n"
     ]
    }
   ],
   "source": [
    "agen_tot = sales.groupBy(\"Agency_Name\").agg({\"YTD_Gross_Pay\": \"sum\"}).sort(\"Agency_Name\")\n",
    "agen_tot = agen_tot.withColumn('Total_per_agency', agen_tot[\"sum(YTD_Gross_Pay)\"].cast(DecimalType(20,2)))\n",
    "agen_tot.sort(desc(\"sum(YTD_Gross_Pay)\")).show(24, truncate=False)"
   ]
  },
  {
   "cell_type": "markdown",
   "id": "6fb70ecc-f6b2-4a47-809e-b408144dc5b8",
   "metadata": {},
   "source": [
    "# Number of employess"
   ]
  },
  {
   "cell_type": "code",
   "execution_count": 156,
   "id": "25dacbbe-6905-490e-8251-ff492ca7bda4",
   "metadata": {},
   "outputs": [
    {
     "name": "stdout",
     "output_type": "stream",
     "text": [
      "+----------------------------------+------------------+\n",
      "|Agency_Name                       |count(Agency_Name)|\n",
      "+----------------------------------+------------------+\n",
      "|CORRECTIONS                       |12530             |\n",
      "|MENTAL HEALTH                     |10089             |\n",
      "|SOCIAL SERVICES                   |8362              |\n",
      "|PUBLIC SAFETY                     |7385              |\n",
      "|TRANSPORTATION                    |7170              |\n",
      "|JUDICIARY                         |5017              |\n",
      "|ELEMENTARY AND SECONDARY EDUCATION|2845              |\n",
      "|OFFICE OF ADMINISTRATION          |2419              |\n",
      "|HEALTH AND SENIOR SERVICES        |2311              |\n",
      "|NATURAL RESOURCES                 |2310              |\n",
      "|CONSERVATION                      |2303              |\n",
      "|REVENUE                           |1929              |\n",
      "|AGRICULTURE                       |1273              |\n",
      "|COMMERCE AND INSURANCE            |1076              |\n",
      "|LEGISLATURE                       |873               |\n",
      "|LABOR AND INDUSTRIAL RELATIONS    |824               |\n",
      "|HIGHER EDUCATION AND WORKFORCE DEV|514               |\n",
      "|OFFICE OF ATTORNEY GENERAL        |505               |\n",
      "|OFFICE OF SECRETARY OF STATE      |315               |\n",
      "|ECONOMIC DEVELOPMENT              |210               |\n",
      "|OFFICE OF STATE AUDITOR           |161               |\n",
      "|OFFICE OF STATE TREASURER         |56                |\n",
      "|OFFICE OF GOVERNOR                |39                |\n",
      "|OFFICE OF LIEUTENANT GOVERNOR     |19                |\n",
      "+----------------------------------+------------------+\n",
      "\n"
     ]
    }
   ],
   "source": [
    "agen_employ = sales.groupBy(\"Agency_Name\").agg({\"Agency_Name\": \"count\"}).sort(\"Agency_Name\")\n",
    "agen_employ.sort(desc(\"count(Agency_Name)\")).show(24, truncate=False)"
   ]
  },
  {
   "cell_type": "markdown",
   "id": "5e1c44c3-b974-4884-a422-fbe40f123dc4",
   "metadata": {},
   "source": [
    "# agency total lowest to highest "
   ]
  },
  {
   "cell_type": "code",
   "execution_count": 159,
   "id": "9cf3a073-c118-4614-93a8-2849a1b6b0f7",
   "metadata": {},
   "outputs": [
    {
     "name": "stdout",
     "output_type": "stream",
     "text": [
      "+----------------------------------+--------------------+----------------+\n",
      "|Agency_Name                       |sum(YTD_Gross_Pay)  |Total_per_agency|\n",
      "+----------------------------------+--------------------+----------------+\n",
      "|OFFICE OF LIEUTENANT GOVERNOR     |886161.7699999999   |886161.77       |\n",
      "|OFFICE OF GOVERNOR                |2030056.8900000004  |2030056.89      |\n",
      "|OFFICE OF STATE TREASURER         |2280548.1200000006  |2280548.12      |\n",
      "|OFFICE OF STATE AUDITOR           |6426858.909999998   |6426858.91      |\n",
      "|ECONOMIC DEVELOPMENT              |6982084.72          |6982084.72      |\n",
      "|OFFICE OF SECRETARY OF STATE      |9082329.97          |9082329.97      |\n",
      "|HIGHER EDUCATION AND WORKFORCE DEV|1.4353807269999988E7|14353807.27     |\n",
      "|AGRICULTURE                       |1.710069344E7       |17100693.44     |\n",
      "|OFFICE OF ATTORNEY GENERAL        |1.9561059030000005E7|19561059.03     |\n",
      "|LABOR AND INDUSTRIAL RELATIONS    |2.9692478259999957E7|29692478.26     |\n",
      "|LEGISLATURE                       |2.969761229000006E7 |29697612.29     |\n",
      "|COMMERCE AND INSURANCE            |4.1321026110000014E7|41321026.11     |\n",
      "|REVENUE                           |4.607970200000001E7 |46079702.00     |\n",
      "|NATURAL RESOURCES                 |6.640370936000007E7 |66403709.36     |\n",
      "|ELEMENTARY AND SECONDARY EDUCATION|6.925081386999997E7 |69250813.87     |\n",
      "|CONSERVATION                      |6.992013162000003E7 |69920131.62     |\n",
      "|HEALTH AND SENIOR SERVICES        |7.883300668999992E7 |78833006.69     |\n",
      "|OFFICE OF ADMINISTRATION          |8.844222656999959E7 |88442226.57     |\n",
      "|JUDICIARY                         |2.008815517899995E8 |200881551.79    |\n",
      "|TRANSPORTATION                    |2.326571463500011E8 |232657146.35    |\n",
      "|SOCIAL SERVICES                   |2.3418771013999888E8|234187710.14    |\n",
      "|PUBLIC SAFETY                     |2.3506643366000026E8|235066433.66    |\n",
      "|MENTAL HEALTH                     |2.7705459687000114E8|277054596.87    |\n",
      "|CORRECTIONS                       |3.822000074700007E8 |382200007.47    |\n",
      "+----------------------------------+--------------------+----------------+\n",
      "\n"
     ]
    }
   ],
   "source": [
    "lowest_em = agen_tot.sort(asc(\"sum(YTD_Gross_Pay)\"))\n",
    "lowest_em.show(24, truncate=False)"
   ]
  },
  {
   "cell_type": "markdown",
   "id": "138e235e-8962-4eaa-b477-66683fd428fd",
   "metadata": {},
   "source": [
    "# agency total highest to lowest "
   ]
  },
  {
   "cell_type": "code",
   "execution_count": 162,
   "id": "177b5d29-56ea-45ba-bdf4-f433727e4594",
   "metadata": {},
   "outputs": [
    {
     "name": "stdout",
     "output_type": "stream",
     "text": [
      "+----------------------------------+--------------------+----------------+\n",
      "|Agency_Name                       |sum(YTD_Gross_Pay)  |Total_per_agency|\n",
      "+----------------------------------+--------------------+----------------+\n",
      "|CORRECTIONS                       |3.822000074700007E8 |382200007.47    |\n",
      "|MENTAL HEALTH                     |2.7705459687000114E8|277054596.87    |\n",
      "|PUBLIC SAFETY                     |2.3506643366000026E8|235066433.66    |\n",
      "|SOCIAL SERVICES                   |2.3418771013999888E8|234187710.14    |\n",
      "|TRANSPORTATION                    |2.326571463500011E8 |232657146.35    |\n",
      "|JUDICIARY                         |2.008815517899995E8 |200881551.79    |\n",
      "|OFFICE OF ADMINISTRATION          |8.844222656999959E7 |88442226.57     |\n",
      "|HEALTH AND SENIOR SERVICES        |7.883300668999992E7 |78833006.69     |\n",
      "|CONSERVATION                      |6.992013162000003E7 |69920131.62     |\n",
      "|ELEMENTARY AND SECONDARY EDUCATION|6.925081386999997E7 |69250813.87     |\n",
      "|NATURAL RESOURCES                 |6.640370936000007E7 |66403709.36     |\n",
      "|REVENUE                           |4.607970200000001E7 |46079702.00     |\n",
      "|COMMERCE AND INSURANCE            |4.1321026110000014E7|41321026.11     |\n",
      "|LEGISLATURE                       |2.969761229000006E7 |29697612.29     |\n",
      "|LABOR AND INDUSTRIAL RELATIONS    |2.9692478259999957E7|29692478.26     |\n",
      "|OFFICE OF ATTORNEY GENERAL        |1.9561059030000005E7|19561059.03     |\n",
      "|AGRICULTURE                       |1.710069344E7       |17100693.44     |\n",
      "|HIGHER EDUCATION AND WORKFORCE DEV|1.4353807269999988E7|14353807.27     |\n",
      "|OFFICE OF SECRETARY OF STATE      |9082329.97          |9082329.97      |\n",
      "|ECONOMIC DEVELOPMENT              |6982084.72          |6982084.72      |\n",
      "|OFFICE OF STATE AUDITOR           |6426858.909999998   |6426858.91      |\n",
      "|OFFICE OF STATE TREASURER         |2280548.1200000006  |2280548.12      |\n",
      "|OFFICE OF GOVERNOR                |2030056.8900000004  |2030056.89      |\n",
      "|OFFICE OF LIEUTENANT GOVERNOR     |886161.7699999999   |886161.77       |\n",
      "+----------------------------------+--------------------+----------------+\n",
      "\n"
     ]
    }
   ],
   "source": [
    "highest_em = agen_tot.sort(desc(\"sum(YTD_Gross_Pay)\"))\n",
    "highest_em.show(24, truncate=False)"
   ]
  },
  {
   "cell_type": "code",
   "execution_count": 192,
   "id": "8ea9f01d-3ad4-43bb-b050-a2c13ee9acb2",
   "metadata": {},
   "outputs": [],
   "source": [
    "sales2 = sales.withColumn(\"YTD_Gross_Pay\",sales.YTD_Gross_Pay.cast(DoubleType()))"
   ]
  },
  {
   "cell_type": "code",
   "execution_count": 202,
   "id": "91dbd683-9410-4043-aaaa-9361b6f5022c",
   "metadata": {},
   "outputs": [
    {
     "name": "stdout",
     "output_type": "stream",
     "text": [
      "+-------------+-------------+---------------------+-----------------------+-------------+\n",
      "|Calendar_Year|Agency_Name  |Position_Title       |Employee_Name          |YTD_Gross_Pay|\n",
      "+-------------+-------------+---------------------+-----------------------+-------------+\n",
      "|2021         |MENTAL HEALTH|CLIENT/PATIENT WORKER|CLIENT/PATIENT WORKERS,|982768.7     |\n",
      "|2021         |MENTAL HEALTH|PSYCHIATRIST         |VANGALA, SEKHAR        |439629.33    |\n",
      "|2021         |MENTAL HEALTH|PSYCHIATRIST         |LELE, MANISHA M.       |418077.8     |\n",
      "|2021         |MENTAL HEALTH|PSYCHIATRIST         |YARASI, NAVEEN K.      |401102.64    |\n",
      "|2021         |MENTAL HEALTH|PSYCHIATRIST         |EL-RUWIE, NEZAR A.     |388272.2     |\n",
      "|2021         |MENTAL HEALTH|PSYCHIATRIST         |NEFF, STACY L.         |323526.08    |\n",
      "+-------------+-------------+---------------------+-----------------------+-------------+\n",
      "only showing top 6 rows\n",
      "\n"
     ]
    }
   ],
   "source": [
    "sales2.sort(desc(\"YTD_Gross_Pay\")).show(6, truncate=False)"
   ]
  },
  {
   "cell_type": "code",
   "execution_count": 203,
   "id": "4f32c425-1c70-4117-8c45-8b6700699351",
   "metadata": {},
   "outputs": [
    {
     "name": "stdout",
     "output_type": "stream",
     "text": [
      "+-------------+--------------------------+------------------------------+---------------------------+-------------+\n",
      "|Calendar_Year|Agency_Name               |Position_Title                |Employee_Name              |YTD_Gross_Pay|\n",
      "+-------------+--------------------------+------------------------------+---------------------------+-------------+\n",
      "|2021         |MENTAL HEALTH             |REGISTERED NURSE              |WHEATLEY, ELIZABETH        |-9302.84     |\n",
      "|2021         |PUBLIC SAFETY             |SPECIAL ASST PROFESSIONAL     |BALQEES, RASHIDA           |-3217.5      |\n",
      "|2021         |MENTAL HEALTH             |DIRECT CARE AIDE              |HOWARD, CLARISSA L         |-3120.95     |\n",
      "|2021         |PUBLIC SAFETY             |SERGEANT                      |MILLER, SCOTT A            |-1020.3      |\n",
      "|2021         |MENTAL HEALTH             |PSYCHIATRIC TECHNICIAN I      |FURTWANGLER, CHAES A.      |-993.51      |\n",
      "|2021         |CORRECTIONS               |CORRECTIONAL OFFICER          |THEBEAU, ROBERT            |-791.02      |\n",
      "|2021         |SOCIAL SERVICES           |DIRECTOR                      |LEWIS, BOBBIE              |-632.63      |\n",
      "|2021         |HEALTH AND SENIOR SERVICES|ADMIN SUPPORT ASSISTANT       |SMITH, SALLY D.            |-527.49      |\n",
      "|2021         |CORRECTIONS               |BENEFIT PROGRAM TECHNICIAN    |WILLIFORD, DANIELE V       |-501.84      |\n",
      "|2021         |TRANSPORTATION            |MAINTENANCE WORKER            |DICKINSON, LEE MICHAEL     |-488.9       |\n",
      "|2021         |CORRECTIONS               |CORRECTIONAL SERGEANT         |EVANS, JONATHAN C          |-412.52      |\n",
      "|2021         |MENTAL HEALTH             |DIRECT CARE AIDE              |JOHNSON, NATE              |-412.3       |\n",
      "|2021         |ECONOMIC DEVELOPMENT      |BENEFIT PROGRAM TECHNICIAN    |HICKS, CHRISTINA C         |-349.43      |\n",
      "|2021         |CORRECTIONS               |ASSOCIATE SOCIAL SERVICES SPEC|ROBERTSON, WILLIAM EARL    |-343.63      |\n",
      "|2021         |SOCIAL SERVICES           |SR PROBATION AND PAROLE ASST  |SANDS, WHITNEY T           |-342.21      |\n",
      "|2021         |CORRECTIONS               |PROBATION & PAROLE OFCR II    |ELLIOTT, ELIZABETH DANIELLE|-310.02      |\n",
      "|2021         |CORRECTIONS               |CORRECTIONAL WORKER           |MADDOX, KEVIN G            |-303.46      |\n",
      "|2021         |CORRECTIONS               |CORRECTIONS OFCR I            |MCCLAIN, MARIA L           |-252.7       |\n",
      "|2021         |CORRECTIONS               |CORRECTIONS OFCR I            |WRIGHT, JACOB L            |-250.82      |\n",
      "|2021         |SOCIAL SERVICES           |CORRECTIONAL PROGRAM SPV      |HANEBRINK, BRUCE A         |-250.0       |\n",
      "|2021         |SOCIAL SERVICES           |INVESTIGATOR I                |FLAUGHER, NATASHA N        |-241.94      |\n",
      "|2021         |CORRECTIONS               |CORRECTIONAL OFFICER          |HEINZ, ABIGAIL M           |-241.91      |\n",
      "|2021         |PUBLIC SAFETY             |PROBATION AND PAROLE OFFICER  |HUMPHREY, MICHELLE N       |-234.31      |\n",
      "|2021         |SOCIAL SERVICES           |PROBATION AND PAROLE OFFICER  |CORBIN, CECELIA Y          |-221.73      |\n",
      "|2021         |JUDICIARY                 |SECURITY SUPPORT CARE ASST    |WILLIAMS, ARIANNA S        |-195.84      |\n",
      "|2021         |MENTAL HEALTH             |ADMINISTRATIVE ASSISTANT      |PIERCE, KATHRYN M.         |-162.58      |\n",
      "|2021         |CORRECTIONS               |CORRECTIONAL WORKER           |MARRON, STEPHEN A          |-157.44      |\n",
      "|2021         |CORRECTIONS               |SECURITY SUPPORT CARE ASST    |GILLYON, JOSEPH M          |-149.89      |\n",
      "|2021         |REVENUE                   |TAX COLLECTION TECH I         |MEASHINTUBBY, SKY R        |-148.92      |\n",
      "|2021         |SOCIAL SERVICES           |SR NON-COMMISSION INVESTIGATOR|WATSON-GLAZE, LAURA M      |-147.81      |\n",
      "|2021         |MENTAL HEALTH             |CORRECTIONAL OFFICER          |GRIFFIN, JAMAAL W.         |-142.8       |\n",
      "|2021         |SOCIAL SERVICES           |PROBATION AND PAROLE OFFICER  |ROSS, KIMBERLY A           |-139.11      |\n",
      "|2021         |MENTAL HEALTH             |CORRECTIONAL OFFICER          |SNYDER, SAMUEL I           |-138.65      |\n",
      "|2021         |REVENUE                   |REVENUE PROCESSING TECH III   |PETERSHAGEN, LADONNA       |-137.65      |\n",
      "|2021         |MENTAL HEALTH             |DEVELOPMENTAL ASST I          |DORAN, HOLLY MARIE         |-137.2       |\n",
      "|2021         |SOCIAL SERVICES           |JUVENILE OFFICER II           |TENNEY, JEREMY D           |-130.42      |\n",
      "|2021         |MENTAL HEALTH             |DIRECT CARE AIDE              |COLLINS, MALIK ABDUL KHADIM|-125.78      |\n",
      "|2021         |MENTAL HEALTH             |SUPPORT CARE ASSISTANT        |GOLLAHER, SKYLER D         |-125.04      |\n",
      "|2021         |CORRECTIONS               |CORRECTIONS OFCR I            |CHAUVIN, COZETTE A         |-124.01      |\n",
      "|2021         |CORRECTIONS               |CORRECTIONAL WORKER           |MILLER, RENIKA             |-123.25      |\n",
      "|2021         |CORRECTIONS               |CORRECTIONS OFCR I            |DEPERALTA, JOSEPH S        |-122.74      |\n",
      "|2021         |JUDICIARY                 |CORRECTIONAL OFFICER          |ROWE, NINA E.A.            |-122.58      |\n",
      "|2021         |CORRECTIONS               |JUVENILE OFFICER II           |PAQUET, STEPHEN            |-117.81      |\n",
      "|2021         |TRANSPORTATION            |INTER HIGHWAY DESIGNER        |STEELE, NICOLE LYNN        |-114.4       |\n",
      "|2021         |SOCIAL SERVICES           |EDUCATOR                      |SMITH, ROBERT G            |-111.06      |\n",
      "|2021         |CORRECTIONS               |BENEFIT PROGRAM TECHNICIAN    |MAJOR, KYLE L              |-103.85      |\n",
      "|2021         |MENTAL HEALTH             |REGISTERED NURSE              |GEORGE, PEGGY              |-91.95       |\n",
      "|2021         |SOCIAL SERVICES           |CORRECTIONAL PROGRAM SPEC     |JINKERSON, SHANE           |-83.84       |\n",
      "|2021         |HEALTH AND SENIOR SERVICES|SR SOCIAL SERVICES SPECIALIST |MORGAN, MONICA DAWN        |-77.26       |\n",
      "|2021         |CORRECTIONS               |CORRECTIONS OFCR II           |HUFF, OLIVER T             |-71.35       |\n",
      "|2021         |MENTAL HEALTH             |JUVENILE OFFICER I            |WILLIAMS, ARIANNA S        |-69.36       |\n",
      "|2021         |TRANSPORTATION            |INTERMEDIATE PROCUREMENT AGENT|SMITH, JULI ANN            |-65.89       |\n",
      "|2021         |CORRECTIONS               |PROBATION & PAROLE OFCR II    |RICE, JENNIFER             |-62.41       |\n",
      "|2021         |SOCIAL SERVICES           |CORRECTIONAL OFFICER          |PEARSON, ABEKU Y           |-59.98       |\n",
      "|2021         |CORRECTIONS               |ADDICTION COUNSELOR           |TAYLOR, KELSEY P           |-56.09       |\n",
      "|2021         |PUBLIC SAFETY             |PROBATION AND PAROLE OFFICER  |JONES, MARIAH M            |-54.8        |\n",
      "|2021         |REVENUE                   |ASSOCIATE CUSTOMER SERVICE REP|MOSELEY, JORDAN L          |-44.5        |\n",
      "|2021         |CORRECTIONS               |CORRECTIONS OFCR I            |IRELAND, KYLER J.          |-44.48       |\n",
      "|2021         |CORRECTIONS               |CORRECTIONS OFCR I            |SHARP, TOMMY R             |-43.99       |\n",
      "|2021         |REVENUE                   |CLERK-TYPIST III              |COALE, TOKO S              |-43.9        |\n",
      "|2021         |MENTAL HEALTH             |DEVELOPMENTAL ASST I          |RIMMER, ERIC L.            |-41.82       |\n",
      "|2021         |MENTAL HEALTH             |TEACHER AIDE                  |SILVA DANIELS, SHERENE D   |-41.4        |\n",
      "|2021         |PUBLIC SAFETY             |NURSING ASST I                |JACOBS, TONYA              |-41.24       |\n",
      "|2021         |REVENUE                   |PROGRAM SPECIALIST            |MORGAN, WILLIAM G.         |-37.24       |\n",
      "|2021         |CORRECTIONS               |STOREKEEPER I                 |MYRACLE, EDIE A            |-36.01       |\n",
      "|2021         |NATURAL RESOURCES         |INVESTIGATOR I                |STEWART, JESSICA R         |-35.63       |\n",
      "|2021         |CORRECTIONS               |CORRECTIONS OFCR II           |HOUSMAN, MASON S           |-33.96       |\n",
      "|2021         |SOCIAL SERVICES           |BENEFIT PROGRAM SPECIALIST    |RUPPERT, TEYONNA JOELLE    |-32.0        |\n",
      "|2021         |MENTAL HEALTH             |REGISTERED NURSE SENIOR       |HARRIS, ELLEN A.           |-31.71       |\n",
      "|2021         |MENTAL HEALTH             |ADMINISTRATIVE SUPPORT CLERK  |TREECE, PAULA S.           |-30.64       |\n",
      "|2021         |MENTAL HEALTH             |CASE MGR II DD                |FAUCETT, KIMBERLY ANN      |-27.75       |\n",
      "|2021         |CORRECTIONS               |CORRECTIONS OFCR I            |AHOLT, ANGELA M            |-26.32       |\n",
      "|2021         |CORRECTIONS               |CORRECTIONS CASE MANAGER I    |DIXSON, RICHARD L.         |-25.88       |\n",
      "|2021         |CORRECTIONS               |CORRECTIONS OFCR I            |WYATT, KASEY S             |-25.55       |\n",
      "|2021         |MENTAL HEALTH             |SECURITY AIDE I PSY           |RYON, RASHELLE D           |-21.13       |\n",
      "|2021         |MENTAL HEALTH             |DEVELOPMENTAL ASST I          |WILLIAMS, HEATHER M        |-21.1        |\n",
      "|2021         |MENTAL HEALTH             |SECURITY SUPPORT CARE ASST    |VAUGHN, MELINDA S.         |-20.87       |\n",
      "|2021         |SOCIAL SERVICES           |CHILD SUPPORT SPECIALIST      |GREENWOOD, KYMBERLI        |-20.44       |\n",
      "|2021         |MENTAL HEALTH             |SENIOR HR ANALYST             |DICKNEITE, CHRISTA JEAN    |-16.74       |\n",
      "|2021         |CORRECTIONS               |CORRECTIONS OFCR I            |CARTER, NATOYLIA C         |-16.42       |\n",
      "|2021         |MENTAL HEALTH             |PROBATION AND PAROLE OFFICER  |ANTHONY, WALTER L          |-13.78       |\n",
      "|2021         |CORRECTIONS               |ADMINISTRATIVE SUPPORT CLERK  |HENRY, ELAINA I            |-12.4        |\n",
      "|2021         |MENTAL HEALTH             |PSYCHIATRIC TECHNICIAN I      |RANDLE, CHRISTINE          |-11.77       |\n",
      "|2021         |CORRECTIONS               |CORRECTIONAL OFFICER          |ROGERS, SAMANTHA K         |-11.27       |\n",
      "|2021         |HEALTH AND SENIOR SERVICES|AUDITOR                       |ATKINSON, JAMIE G          |-11.2        |\n",
      "|2021         |SOCIAL SERVICES           |SCHOOL SUPERVISOR             |ROSEN, JENNIFER C          |-11.1        |\n",
      "|2021         |CORRECTIONS               |SECRETARY                     |SWANSON, STEPHANIE S       |-9.32        |\n",
      "|2021         |PUBLIC SAFETY             |NURSING ASST II               |BOSSALLER, TERESA L        |-9.3         |\n",
      "|2021         |SOCIAL SERVICES           |OFFICE SUPPORT ASSISTANT      |NELSON, CILICIA A          |-8.51        |\n",
      "|2021         |SOCIAL SERVICES           |FAMILY SUPPORT ELIGIBILITY SPC|FARR, MARIE                |-7.73        |\n",
      "|2021         |SOCIAL SERVICES           |SPECIAL EDUC TEACHER III      |DE GOOD, DONNA I           |-7.06        |\n",
      "|2021         |SOCIAL SERVICES           |CHILDREN'S SERVICE WORKER I   |ANDERSON, SHARON A         |-5.85        |\n",
      "|2021         |CORRECTIONS               |CORRECTIONAL OFFICER          |DAVIS, NATASHA D           |-5.75        |\n",
      "|2021         |SOCIAL SERVICES           |BENEFIT PROGRAM SPECIALIST    |JACKSON, KIMBERLEE         |-3.87        |\n",
      "|2021         |PUBLIC SAFETY             |FOOD SERVICE WORKER           |PAYNE, AMBER M             |-3.03        |\n",
      "|2021         |REVENUE                   |ASSOCIATE CUSTOMER SERVICE REP|CAMP, AMBER RENAE          |-3.01        |\n",
      "|2021         |SOCIAL SERVICES           |ADMINISTRATIVE SUPPORT CLERK  |FREEMAN, KENNETH A         |-0.12        |\n",
      "|2021         |CORRECTIONS               |CORRECTIONS OFCR I            |SWANK, DELORIS E           |-0.02        |\n",
      "|2021         |MENTAL HEALTH             |DEVELOPMENTAL ASST I          |REDBURN, DAVID M           |-0.01        |\n",
      "|2021         |MENTAL HEALTH             |SUPPORT CARE ASSISTANT        |VANDIVER, KAYLA M          |0.02         |\n",
      "|2021         |MENTAL HEALTH             |SUPPORT CARE ASSISTANT        |CATO, JOSHUA L             |0.04         |\n",
      "|2021         |MENTAL HEALTH             |ADMINISTRATIVE SUPPORT CLERK  |DECLUE, AMANDA M           |0.05         |\n",
      "|2021         |MENTAL HEALTH             |THERAPY AIDE                  |BARTON, CATHLEEN           |0.06         |\n",
      "|2021         |MENTAL HEALTH             |THERAPEUTIC SERVICES WORKER   |LAWSON, PERRY B.           |0.15         |\n",
      "|2021         |MENTAL HEALTH             |CUSTODIAL WORKER I            |MILLER, KIMBERLY MONITA    |0.2          |\n",
      "+-------------+--------------------------+------------------------------+---------------------------+-------------+\n",
      "only showing top 105 rows\n",
      "\n"
     ]
    }
   ],
   "source": [
    "sales2.sort(asc(\"YTD_Gross_Pay\")).show(105, truncate=False)"
   ]
  },
  {
   "cell_type": "code",
   "execution_count": 193,
   "id": "abf83c65-38f2-488d-90b6-91cf85a7a623",
   "metadata": {},
   "outputs": [
    {
     "data": {
      "text/plain": [
       "[('Calendar_Year', 'string'),\n",
       " ('Agency_Name', 'string'),\n",
       " ('Position_Title', 'string'),\n",
       " ('Employee_Name', 'string'),\n",
       " ('YTD_Gross_Pay', 'double')]"
      ]
     },
     "execution_count": 193,
     "metadata": {},
     "output_type": "execute_result"
    }
   ],
   "source": [
    "#sales.select(max(col(\"YTD_Gross_Pay\"))).show()\n",
    "#sales.groupby().max('YTD_Gross_Pay').first().asDict()['max(YTD_Gross_Pay)']\n",
    "#spark.sql(\"SELECT MAX(e) as maxval FROM sales\").first().asDict()['maxval']\n",
    "#sales.groupby().max('YTD_Gross_Pay').first().asDict()['max(YTD_Gross_Pay)']\n",
    "sales2.dtypes"
   ]
  },
  {
   "cell_type": "code",
   "execution_count": 184,
   "id": "131feee5-fe2b-45e3-ae33-766097f551a2",
   "metadata": {},
   "outputs": [
    {
     "data": {
      "text/plain": [
       "[('Agency_Name', 'string'),\n",
       " ('sum(YTD_Gross_Pay)', 'double'),\n",
       " ('Total_per_agency', 'decimal(20,2)')]"
      ]
     },
     "execution_count": 184,
     "metadata": {},
     "output_type": "execute_result"
    }
   ],
   "source": [
    "highest_em.dtypes"
   ]
  },
  {
   "cell_type": "code",
   "execution_count": null,
   "id": "36539f9a-ef19-4c76-932a-f21c6d0f1049",
   "metadata": {},
   "outputs": [],
   "source": []
  }
 ],
 "metadata": {
  "kernelspec": {
   "display_name": "Python 3 (ipykernel)",
   "language": "python",
   "name": "python3"
  },
  "language_info": {
   "codemirror_mode": {
    "name": "ipython",
    "version": 3
   },
   "file_extension": ".py",
   "mimetype": "text/x-python",
   "name": "python",
   "nbconvert_exporter": "python",
   "pygments_lexer": "ipython3",
   "version": "3.12.1"
  }
 },
 "nbformat": 4,
 "nbformat_minor": 5
}
